{
 "cells": [
  {
   "cell_type": "markdown",
   "metadata": {
    "vscode": {
     "languageId": "plaintext"
    }
   },
   "source": [
    "Copyright **`(c)`** 2024 Giovanni Squillero `<giovanni.squillero@polito.it>`  \n",
    "[`https://github.com/squillero/computational-intelligence`](https://github.com/squillero/computational-intelligence)  \n",
    "Free under certain conditions — see the [`license`](https://github.com/squillero/computational-intelligence/blob/master/LICENSE.md) for details.  "
   ]
  },
  {
   "cell_type": "code",
   "execution_count": 2,
   "metadata": {},
   "outputs": [],
   "source": [
    "import logging\n",
    "from itertools import combinations\n",
    "import pandas as pd\n",
    "import numpy as np\n",
    "from geopy.distance import geodesic\n",
    "import networkx as nx\n",
    "from tqdm import tqdm\n",
    "import matplotlib.pyplot as plt\n",
    "\n",
    "from icecream import ic\n",
    "\n",
    "logging.basicConfig(level=logging.DEBUG)"
   ]
  },
  {
   "cell_type": "code",
   "execution_count": 3,
   "metadata": {},
   "outputs": [],
   "source": [
    "def setup_data(filen):\n",
    "    cities = pd.read_csv(filen, header=None, names=['name', 'lat', 'lon'])\n",
    "    num_cities = len(cities)\n",
    "    dist_matrix = np.zeros((len(cities), len(cities)))\n",
    "    for c1, c2 in combinations(cities.itertuples(), 2):\n",
    "        dist_matrix[c1.Index, c2.Index] = dist_matrix[c2.Index, c1.Index] = geodesic(\n",
    "            (c1.lat, c1.lon), (c2.lat, c2.lon)\n",
    "        ).km\n",
    "    return cities, dist_matrix"
   ]
  },
  {
   "cell_type": "markdown",
   "metadata": {},
   "source": [
    "## Lab2 - TSP\n",
    "\n",
    "https://www.wolframcloud.com/obj/giovanni.squillero/Published/Lab2-tsp.nb"
   ]
  },
  {
   "cell_type": "code",
   "execution_count": 4,
   "metadata": {},
   "outputs": [],
   "source": [
    "def tsp_cost(tsp):\n",
    "    sol = tsp.copy()\n",
    "    if sol[0] != sol[-1]:\n",
    "        sol = sol + [sol[0]]\n",
    "    assert sol[0] == sol[-1]\n",
    "    #assert set(sol) == set(range(len(CITIES)))\n",
    "\n",
    "    tot_cost = 0\n",
    "    for c1, c2 in zip(sol, sol[1:]):\n",
    "        tot_cost += DIST_MATRIX[c1, c2]\n",
    "    return tot_cost\n"
   ]
  },
  {
   "cell_type": "markdown",
   "metadata": {},
   "source": [
    "## Greedy Algorithm"
   ]
  },
  {
   "cell_type": "code",
   "execution_count": 5,
   "metadata": {},
   "outputs": [],
   "source": [
    "def greedy_tsp(cities, dist_matrix):\n",
    "    visited = np.full(len(cities), False)\n",
    "    dist = dist_matrix.copy()\n",
    "    city = 0\n",
    "    visited[city] = True\n",
    "    tsp = list()\n",
    "    tsp.append(int(city))\n",
    "    while not np.all(visited):\n",
    "        dist[:, city] = np.inf\n",
    "        closest = np.argmin(dist[city])\n",
    "        # logging.debug(\n",
    "        #     f\"step: {CITIES.at[city,'name']} -> {CITIES.at[closest,'name']} ({DIST_MATRIX[city,closest]:.2f}km)\"\n",
    "        # )\n",
    "        visited[closest] = True\n",
    "        city = closest\n",
    "        tsp.append(int(city))\n",
    "    # logging.debug(\n",
    "    #     f\"step: {CITIES.at[tsp[-1],'name']} -> {CITIES.at[tsp[0],'name']} ({DIST_MATRIX[tsp[-1],tsp[0]]:.2f}km)\"\n",
    "    # )\n",
    "    \n",
    "    #tsp.append(tsp[0])\n",
    "    \n",
    "\n",
    "    #logging.info(f\"result: Found a path of {len(tsp)-1} steps, total length {tsp_cost(tsp):.2f}km\")\n",
    "    \n",
    "    return tsp, tsp_cost(tsp)"
   ]
  },
  {
   "cell_type": "markdown",
   "metadata": {},
   "source": [
    "## Evolutionary\n",
    "\n"
   ]
  },
  {
   "cell_type": "code",
   "execution_count": 6,
   "metadata": {},
   "outputs": [],
   "source": [
    "def invertion(solution):\n",
    "    i1 = np.random.randint(0, len(solution))\n",
    "    i2 = np.random.randint(0, len(solution))\n",
    "    if i1 > i2:\n",
    "        i1, i2 = i2, i1\n",
    "    cut = solution[i1:i2+1]\n",
    "    sol_copy = solution.copy()\n",
    "    if i1==0:\n",
    "        sol_copy[i2::-1] = cut\n",
    "    else:\n",
    "        sol_copy[i2 :i1 -1: -1] = cut\n",
    "    return sol_copy \n",
    "\n",
    "def tweak(solution):\n",
    "    pm = 1/ len(solution)\n",
    "    sol_copy = solution.copy()\n",
    "    p = None\n",
    "    while p is None or p < pm:\n",
    "        i1 = np.random.randint(0, len(solution))\n",
    "        i2 = np.random.randint(0, len(solution))\n",
    "        sol_copy[i1], sol_copy[i2] = sol_copy[i2], sol_copy[i1]\n",
    "        p = np.random.random()\n",
    "        \n",
    "    return sol_copy   \n",
    "\n",
    "def scramble_mutation(solution):\n",
    "    SIGMA = 0.5\n",
    "    sol_copy = np.array(solution.copy())\n",
    "    mask = np.random.random(len(sol_copy)) < SIGMA\n",
    "    sol_copy[mask] = np.random.permutation(sol_copy[mask])\n",
    "    return sol_copy.tolist()\n",
    "\n",
    "def parent_selection(population):\n",
    "    sorted_population_best = sorted(population, key=lambda x: tsp_cost(x))[:10]\n",
    "    return sorted_population_best[np.random.randint(0,10)]\n",
    "    \n",
    "\n",
    "def inver_over(p1,p2):\n",
    "    # Select first gene\n",
    "    i1= np.random.randint(0, len(p1))\n",
    "    g1 = p1[i1]\n",
    "    i_of_g1_in_p2= p2.index(g1)\n",
    "    if i_of_g1_in_p2 +1 >= len(p2):\n",
    "        g2 = p2[0]\n",
    "    else:\n",
    "        g2 = p2[i_of_g1_in_p2 +1]\n",
    "    \n",
    "    i2 = p1.index(g2)\n",
    "    \n",
    "    # Now i1 and i2 are the index of g1 and g2 in the first parent\n",
    "    xo = None\n",
    "    \n",
    "    p1 = p1[i1:] + p1[:i1]\n",
    "        \n",
    "    i1 = p1.index(g1)\n",
    "    i2 = p1.index(g2)\n",
    "    cut = p1[i1+1: i2]\n",
    "    cut.reverse()\n",
    "    if len(cut) > 0:\n",
    "        xo = [g1] + [g2] + cut + p1[i2+1:]\n",
    "        return xo\n",
    "    return p1"
   ]
  },
  {
   "cell_type": "code",
   "execution_count": null,
   "metadata": {},
   "outputs": [],
   "source": [
    "def ea_tsp(cities, generations, seed = None):\n",
    "    POPULATION_SIZE = len(cities) // 2 + 7\n",
    "    population = [[i for i in range(len(cities))] for _ in range(POPULATION_SIZE)]\n",
    "    for p in population:\n",
    "        np.random.shuffle(p)\n",
    "    if seed != None:\n",
    "    \n",
    "        population.append(seed)\n",
    "\n",
    "\n",
    "    champion = min(population, key=lambda x: tsp_cost(x))\n",
    "    champion_cost = tsp_cost(champion)\n",
    "    \n",
    "    OFFSPRING_SIZE = int(round(0.66 * POPULATION_SIZE))\n",
    "\n",
    "    for _ in tqdm(range(generations)):\n",
    "        offspring = []\n",
    "        for _ in range(OFFSPRING_SIZE):\n",
    "            p1 = parent_selection(population)\n",
    "            p2 = parent_selection(population)\n",
    "            \n",
    "            offspring.append(tweak(p1))\n",
    "            if np.random.rand() < 0.9:\n",
    "                # Mutation\n",
    "                o = invertion(p1)\n",
    "                offspring.append(o)\n",
    "            else:\n",
    "                offspring.append(inver_over(p1,p2))\n",
    "        \n",
    "        population.extend(offspring)\n",
    "    \n",
    "        #population = sorted(population, key=lambda x: tsp_cost(x))[:POPULATION_SIZE]\n",
    "        population.sort( key= lambda x : tsp_cost(x))\n",
    "        population = population[:POPULATION_SIZE]\n",
    "        offspring_champion = min(population, key=lambda x: tsp_cost(x))\n",
    "        offspring_cost = tsp_cost(offspring_champion)\n",
    "        if offspring_cost < champion_cost:\n",
    "\n",
    "            champion = offspring_champion\n",
    "            champion_cost = offspring_cost\n",
    "\n",
    "            \n",
    "    return champion, champion_cost\n",
    "          \n"
   ]
  },
  {
   "cell_type": "markdown",
   "metadata": {},
   "source": [
    "## Local search\n"
   ]
  },
  {
   "cell_type": "code",
   "execution_count": 8,
   "metadata": {},
   "outputs": [],
   "source": [
    "def simulated_annealing(starting_point, temp, alpha, max_iter):\n",
    "    current_solution = starting_point\n",
    "    current_cost = tsp_cost(current_solution)\n",
    "    best_solution = current_solution\n",
    "    best_cost = current_cost\n",
    "    for i in tqdm(range(max_iter)):\n",
    "        while np.random.rand() < 0.3:\n",
    "            new_solution = tweak(current_solution)\n",
    "        new_solution = invertion(current_solution)\n",
    "        new_cost = tsp_cost(new_solution)\n",
    "        if new_cost < current_cost:\n",
    "            current_solution = new_solution\n",
    "            current_cost = new_cost\n",
    "            if new_cost < best_cost:\n",
    "                best_solution = new_solution\n",
    "                best_cost = new_cost\n",
    "        else:\n",
    "            if np.random.rand() < np.exp((current_cost - new_cost) / temp):\n",
    "                current_solution = new_solution\n",
    "                current_cost = new_cost\n",
    "        temp *= alpha\n",
    "    return best_solution, best_cost"
   ]
  },
  {
   "cell_type": "markdown",
   "metadata": {},
   "source": [
    "## Results"
   ]
  },
  {
   "cell_type": "code",
   "execution_count": 40,
   "metadata": {},
   "outputs": [],
   "source": [
    "# Tested with:\n",
    "# POPULATION_SIZE = 100\n",
    "# GENERATIONS = 5000\n",
    "\n",
    "# filenames = [\"cities/vanuatu.csv\", \"cities/italy.csv\", \"cities/russia.csv\", \"cities/us.csv\"]\n",
    "# global CITIES, DIST_MATRIX\n",
    "# for filen in filenames:\n",
    "#     instance = filen.split(\"/\")[1].replace(\".csv\",\"\")\n",
    "#     ic(filen)\n",
    "#     cities, dist_matrix = setup_data(filen)\n",
    "#     CITIES = cities\n",
    "#     DIST_MATRIX = dist_matrix\n",
    "#     GREEDY_TSP, GREEDY_COST = greedy_tsp(cities, dist_matrix)\n",
    "#     np.save(instance + \"_greedy_tsp\", GREEDY_TSP)\n",
    "#     SIM_AN_SOL, SIM_AN_COST = simulated_annealing( GREEDY_TSP, 100, 0.999, 100000)\n",
    "#     np.save(instance + \"_localsearch_tsp\", SIM_AN_SOL)\n",
    "#     EA_TSP, EA_COST = ea_tsp(cities)\n",
    "#     np.save(instance + \"_ea_tsp\", EA_TSP)\n",
    "#     ic(GREEDY_COST,SIM_AN_COST, EA_COST)\n",
    "    \n",
    "# None\n"
   ]
  },
  {
   "cell_type": "code",
   "execution_count": 43,
   "metadata": {},
   "outputs": [
    {
     "name": "stderr",
     "output_type": "stream",
     "text": [
      "ic| filen: 'cities/vanuatu.csv'\n",
      "100%|██████████| 100000/100000 [00:01<00:00, 63808.32it/s]\n",
      "100%|██████████| 1000/1000 [00:00<00:00, 2640.23it/s]\n",
      "ic| GREEDY_COST: np.float64(1475.528091104531)\n",
      "    SIM_AN_COST: np.float64(1345.544956473311)\n",
      "    EA_COST: np.float64(1345.544956473311)\n"
     ]
    }
   ],
   "source": [
    "filen= 'cities/vanuatu.csv'\n",
    "instance = filen.split(\"/\")[1].replace(\".csv\",\"\")\n",
    "ic(filen)\n",
    "cities, dist_matrix = setup_data(filen)\n",
    "CITIES = cities\n",
    "DIST_MATRIX = dist_matrix\n",
    "\n",
    "GREEDY_TSP, GREEDY_COST = greedy_tsp(cities, dist_matrix)\n",
    "#np.save(instance + \"_greedy_tsp\", GREEDY_TSP)\n",
    "\n",
    "SIM_AN_SOL, SIM_AN_COST = simulated_annealing( GREEDY_TSP, 100, 0.999, 100000)\n",
    "#np.save(instance + \"_localsearch_tsp\", SIM_AN_SOL)\n",
    "\n",
    "GENERATIONS = 1000 # Few cities, faster to optimize to global optimum\n",
    "EA_TSP, EA_COST = ea_tsp(cities, GENERATIONS)\n",
    "#np.save(instance + \"_ea_tsp\", EA_TSP)\n",
    "\n",
    "ic(GREEDY_COST,SIM_AN_COST, EA_COST)\n",
    "None"
   ]
  },
  {
   "cell_type": "code",
   "execution_count": null,
   "metadata": {},
   "outputs": [
    {
     "name": "stderr",
     "output_type": "stream",
     "text": [
      "ic| filen: 'cities/italy.csv'\n",
      "100%|██████████| 100000/100000 [00:02<00:00, 42042.68it/s]\n",
      "100%|██████████| 3000/3000 [00:28<00:00, 104.71it/s]\n",
      "ic| GREEDY_COST: np.float64(4436.031769525158)\n",
      "    SIM_AN_COST: np.float64(4182.7217050918125)\n",
      "    EA_COST: np.float64(4182.7217050918125)\n"
     ]
    }
   ],
   "source": [
    "filen= 'cities/italy.csv'\n",
    "instance = filen.split(\"/\")[1].replace(\".csv\",\"\")\n",
    "ic(filen)\n",
    "cities, dist_matrix = setup_data(filen)\n",
    "CITIES = cities\n",
    "DIST_MATRIX = dist_matrix\n",
    "\n",
    "GREEDY_TSP, GREEDY_COST = greedy_tsp(cities, dist_matrix)\n",
    "np.save(instance + \"_greedy_tsp\", GREEDY_TSP)\n",
    "\n",
    "SIM_AN_SOL, SIM_AN_COST = simulated_annealing( GREEDY_TSP, 100, 0.999, 100000)\n",
    "np.save(instance + \"_localsearch_tsp\", SIM_AN_SOL)\n",
    "\n",
    "GENERATIONS= 3000\n",
    "EA_TSP, EA_COST = ea_tsp(cities, GENERATIONS)\n",
    "np.save(instance + \"_ea_tsp\", EA_TSP)\n",
    "ic(GREEDY_COST,SIM_AN_COST, EA_COST)\n",
    "None"
   ]
  },
  {
   "cell_type": "code",
   "execution_count": 62,
   "metadata": {},
   "outputs": [
    {
     "name": "stderr",
     "output_type": "stream",
     "text": [
      "ic| filen: 'cities/russia.csv'\n",
      "100%|██████████| 100000/100000 [00:05<00:00, 18739.89it/s]\n",
      "100%|██████████| 2000/2000 [14:34<00:00,  2.29it/s]\n",
      "ic| GREEDY_COST: np.float64(42334.16465744784)\n",
      "    SIM_AN_COST: np.float64(36102.6069174666)\n",
      "    EA_COST: np.float64(35457.67562739072)\n"
     ]
    }
   ],
   "source": [
    "filen= 'cities/russia.csv'\n",
    "instance = filen.split(\"/\")[1].replace(\".csv\",\"\")\n",
    "ic(filen)\n",
    "cities, dist_matrix = setup_data(filen)\n",
    "CITIES = cities\n",
    "DIST_MATRIX = dist_matrix\n",
    "GREEDY_TSP, GREEDY_COST = greedy_tsp(cities, dist_matrix)\n",
    "np.save(instance + \"_greedy_tsp\", GREEDY_TSP)\n",
    "SIM_AN_SOL, SIM_AN_COST = simulated_annealing( GREEDY_TSP, 100, 0.999, 100000)\n",
    "np.save(instance + \"_localsearch_tsp\", SIM_AN_SOL)\n",
    "GENERATIONS = 2000\n",
    "EA_TSP, EA_COST = ea_tsp(cities, GENERATIONS)\n",
    "np.save(instance + \"_ea_tsp\", EA_TSP)\n",
    "ic(GREEDY_COST,SIM_AN_COST, EA_COST)\n",
    "None"
   ]
  },
  {
   "cell_type": "code",
   "execution_count": 68,
   "metadata": {},
   "outputs": [
    {
     "name": "stderr",
     "output_type": "stream",
     "text": [
      "ic| "
     ]
    },
    {
     "name": "stderr",
     "output_type": "stream",
     "text": [
      "filen: 'cities/us.csv'\n",
      "100%|██████████| 100000/100000 [00:09<00:00, 10756.86it/s]\n",
      "100%|██████████| 3000/3000 [1:24:53<00:00,  1.70s/it]\n",
      "ic| GREEDY_COST: np.float64(48050.025864461386)\n",
      "    SIM_AN_COST: np.float64(41462.17390227013)\n",
      "    EA_COST: np.float64(42866.356201127455)\n"
     ]
    }
   ],
   "source": [
    "filen= 'cities/us.csv'\n",
    "instance = filen.split(\"/\")[1].replace(\".csv\",\"\")\n",
    "ic(filen)\n",
    "cities, dist_matrix = setup_data(filen)\n",
    "CITIES = cities\n",
    "DIST_MATRIX = dist_matrix\n",
    "GREEDY_TSP, GREEDY_COST = greedy_tsp(cities, dist_matrix)\n",
    "np.save(instance + \"_greedy_tsp\", GREEDY_TSP)\n",
    "SIM_AN_SOL, SIM_AN_COST = simulated_annealing( GREEDY_TSP, 100, 0.999, 100000)\n",
    "np.save(instance + \"_localsearch_tsp\", SIM_AN_SOL)\n",
    "GENERATIONS = 3000\n",
    "EA_TSP, EA_COST = ea_tsp(cities, GENERATIONS)\n",
    "np.save(instance + \"_ea_tsp\", EA_TSP)\n",
    "ic(GREEDY_COST,SIM_AN_COST, EA_COST)\n",
    "None"
   ]
  },
  {
   "cell_type": "code",
   "execution_count": 9,
   "metadata": {},
   "outputs": [
    {
     "name": "stderr",
     "output_type": "stream",
     "text": [
      "ic| filen: 'cities/china.csv'\n",
      "100%|██████████| 100000/100000 [00:20<00:00, 4841.91it/s]\n",
      "  5%|▌         | 52/1000 [17:44<5:23:23, 20.47s/it]\n"
     ]
    },
    {
     "ename": "KeyboardInterrupt",
     "evalue": "",
     "output_type": "error",
     "traceback": [
      "\u001b[0;31m---------------------------------------------------------------------------\u001b[0m",
      "\u001b[0;31mKeyboardInterrupt\u001b[0m                         Traceback (most recent call last)",
      "Cell \u001b[0;32mIn[9], line 13\u001b[0m\n\u001b[1;32m     10\u001b[0m np\u001b[38;5;241m.\u001b[39msave(instance \u001b[38;5;241m+\u001b[39m \u001b[38;5;124m\"\u001b[39m\u001b[38;5;124m_localsearch_tsp\u001b[39m\u001b[38;5;124m\"\u001b[39m, SIM_AN_SOL)\n\u001b[1;32m     12\u001b[0m GENERATIONS \u001b[38;5;241m=\u001b[39m \u001b[38;5;241m1000\u001b[39m\n\u001b[0;32m---> 13\u001b[0m EA_TSP, EA_COST \u001b[38;5;241m=\u001b[39m \u001b[43mea_tsp\u001b[49m\u001b[43m(\u001b[49m\u001b[43mcities\u001b[49m\u001b[43m,\u001b[49m\u001b[43m \u001b[49m\u001b[38;5;241;43m1000\u001b[39;49m\u001b[43m)\u001b[49m\n\u001b[1;32m     14\u001b[0m np\u001b[38;5;241m.\u001b[39msave(instance \u001b[38;5;241m+\u001b[39m \u001b[38;5;124m\"\u001b[39m\u001b[38;5;124m_ea_tsp\u001b[39m\u001b[38;5;124m\"\u001b[39m, EA_TSP)\n\u001b[1;32m     15\u001b[0m ic(GREEDY_COST,SIM_AN_COST, EA_COST)\n",
      "Cell \u001b[0;32mIn[7], line 19\u001b[0m, in \u001b[0;36mea_tsp\u001b[0;34m(cities, generations, seed)\u001b[0m\n\u001b[1;32m     17\u001b[0m offspring \u001b[38;5;241m=\u001b[39m []\n\u001b[1;32m     18\u001b[0m \u001b[38;5;28;01mfor\u001b[39;00m _ \u001b[38;5;129;01min\u001b[39;00m \u001b[38;5;28mrange\u001b[39m(OFFSPRING_SIZE):\n\u001b[0;32m---> 19\u001b[0m     p1 \u001b[38;5;241m=\u001b[39m \u001b[43mparent_selection\u001b[49m\u001b[43m(\u001b[49m\u001b[43mpopulation\u001b[49m\u001b[43m)\u001b[49m\n\u001b[1;32m     20\u001b[0m     p2 \u001b[38;5;241m=\u001b[39m parent_selection(population)\n\u001b[1;32m     22\u001b[0m     offspring\u001b[38;5;241m.\u001b[39mappend(tweak(p1))\n",
      "Cell \u001b[0;32mIn[6], line 34\u001b[0m, in \u001b[0;36mparent_selection\u001b[0;34m(population)\u001b[0m\n\u001b[1;32m     33\u001b[0m \u001b[38;5;28;01mdef\u001b[39;00m \u001b[38;5;21mparent_selection\u001b[39m(population):\n\u001b[0;32m---> 34\u001b[0m     sorted_population_best \u001b[38;5;241m=\u001b[39m \u001b[38;5;28;43msorted\u001b[39;49m\u001b[43m(\u001b[49m\u001b[43mpopulation\u001b[49m\u001b[43m,\u001b[49m\u001b[43m \u001b[49m\u001b[43mkey\u001b[49m\u001b[38;5;241;43m=\u001b[39;49m\u001b[38;5;28;43;01mlambda\u001b[39;49;00m\u001b[43m \u001b[49m\u001b[43mx\u001b[49m\u001b[43m:\u001b[49m\u001b[43m \u001b[49m\u001b[43mtsp_cost\u001b[49m\u001b[43m(\u001b[49m\u001b[43mx\u001b[49m\u001b[43m)\u001b[49m\u001b[43m)\u001b[49m[:\u001b[38;5;241m10\u001b[39m]\n\u001b[1;32m     35\u001b[0m     \u001b[38;5;28;01mreturn\u001b[39;00m sorted_population_best[np\u001b[38;5;241m.\u001b[39mrandom\u001b[38;5;241m.\u001b[39mrandint(\u001b[38;5;241m0\u001b[39m,\u001b[38;5;241m10\u001b[39m)]\n",
      "Cell \u001b[0;32mIn[6], line 34\u001b[0m, in \u001b[0;36mparent_selection.<locals>.<lambda>\u001b[0;34m(x)\u001b[0m\n\u001b[1;32m     33\u001b[0m \u001b[38;5;28;01mdef\u001b[39;00m \u001b[38;5;21mparent_selection\u001b[39m(population):\n\u001b[0;32m---> 34\u001b[0m     sorted_population_best \u001b[38;5;241m=\u001b[39m \u001b[38;5;28msorted\u001b[39m(population, key\u001b[38;5;241m=\u001b[39m\u001b[38;5;28;01mlambda\u001b[39;00m x: \u001b[43mtsp_cost\u001b[49m\u001b[43m(\u001b[49m\u001b[43mx\u001b[49m\u001b[43m)\u001b[49m)[:\u001b[38;5;241m10\u001b[39m]\n\u001b[1;32m     35\u001b[0m     \u001b[38;5;28;01mreturn\u001b[39;00m sorted_population_best[np\u001b[38;5;241m.\u001b[39mrandom\u001b[38;5;241m.\u001b[39mrandint(\u001b[38;5;241m0\u001b[39m,\u001b[38;5;241m10\u001b[39m)]\n",
      "Cell \u001b[0;32mIn[4], line 10\u001b[0m, in \u001b[0;36mtsp_cost\u001b[0;34m(tsp)\u001b[0m\n\u001b[1;32m      8\u001b[0m tot_cost \u001b[38;5;241m=\u001b[39m \u001b[38;5;241m0\u001b[39m\n\u001b[1;32m      9\u001b[0m \u001b[38;5;28;01mfor\u001b[39;00m c1, c2 \u001b[38;5;129;01min\u001b[39;00m \u001b[38;5;28mzip\u001b[39m(sol, sol[\u001b[38;5;241m1\u001b[39m:]):\n\u001b[0;32m---> 10\u001b[0m     tot_cost \u001b[38;5;241m+\u001b[39m\u001b[38;5;241m=\u001b[39m DIST_MATRIX[c1, c2]\n\u001b[1;32m     11\u001b[0m \u001b[38;5;28;01mreturn\u001b[39;00m tot_cost\n",
      "\u001b[0;31mKeyboardInterrupt\u001b[0m: "
     ]
    }
   ],
   "source": [
    "filen= 'cities/china.csv'\n",
    "instance = filen.split(\"/\")[1].replace(\".csv\",\"\")\n",
    "ic(filen)\n",
    "cities, dist_matrix = setup_data(filen)\n",
    "CITIES = cities\n",
    "DIST_MATRIX = dist_matrix\n",
    "GREEDY_TSP, GREEDY_COST = greedy_tsp(cities, dist_matrix)\n",
    "np.save(instance + \"_greedy_tsp\", GREEDY_TSP)\n",
    "SIM_AN_SOL, SIM_AN_COST = simulated_annealing( GREEDY_TSP, 100, 0.999, 100000)\n",
    "np.save(instance + \"_localsearch_tsp\", SIM_AN_SOL)\n",
    "\n",
    "GENERATIONS = 1000\n",
    "EA_TSP, EA_COST = ea_tsp(cities, 1000)\n",
    "np.save(instance + \"_ea_tsp\", EA_TSP)\n",
    "ic(GREEDY_COST,SIM_AN_COST, EA_COST)\n",
    "None"
   ]
  }
 ],
 "metadata": {
  "kernelspec": {
   "display_name": "venv",
   "language": "python",
   "name": "python3"
  },
  "language_info": {
   "codemirror_mode": {
    "name": "ipython",
    "version": 3
   },
   "file_extension": ".py",
   "mimetype": "text/x-python",
   "name": "python",
   "nbconvert_exporter": "python",
   "pygments_lexer": "ipython3",
   "version": "3.12.7"
  }
 },
 "nbformat": 4,
 "nbformat_minor": 2
}
